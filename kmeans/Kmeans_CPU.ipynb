{
  "cells": [
    {
      "cell_type": "code",
      "execution_count": 1,
      "metadata": {
        "colab": {
          "base_uri": "https://localhost:8080/"
        },
        "id": "q52srwlpiyrs",
        "outputId": "15f7f71c-13eb-451b-8d5f-686345e58d4a"
      },
      "outputs": [
        {
          "output_type": "stream",
          "name": "stdout",
          "text": [
            "Saved 10000 samples to random_data_10000.csv\n",
            "Saved 100000 samples to random_data_100000.csv\n",
            "Saved 1000000 samples to random_data_1000000.csv\n",
            "Saved 10000000 samples to random_data_10000000.csv\n"
          ]
        }
      ],
      "source": [
        "import pandas as pd\n",
        "import numpy as np\n",
        "\n",
        "# Set the random seed for reproducibility\n",
        "np.random.seed(42)\n",
        "\n",
        "# List of different sizes for the datasets\n",
        "sizes = [10000, 100000, 1000000, 10000000]\n",
        "num_features = 5\n",
        "\n",
        "# Loop through each size and generate, then save the data\n",
        "for size in sizes:\n",
        "    # Generate random data\n",
        "    data = pd.DataFrame(np.random.randn(size, num_features), columns=[f'feature_{i}' for i in range(num_features)])\n",
        "\n",
        "    # Save the data to a CSV file\n",
        "    filename = f'random_data_{size}.csv'\n",
        "    data.to_csv(filename, index=False)\n",
        "\n",
        "    print(f'Saved {size} samples to {filename}')"
      ]
    },
    {
      "cell_type": "code",
      "execution_count": 6,
      "metadata": {
        "colab": {
          "base_uri": "https://localhost:8080/"
        },
        "id": "cUHkEh5Mg9qW",
        "outputId": "70a8036c-baeb-4e7a-d9e7-ae1e30abe5e9"
      },
      "outputs": [
        {
          "output_type": "stream",
          "name": "stdout",
          "text": [
            "Overwriting kmeans_cpu.c\n"
          ]
        }
      ],
      "source": [
        "%%writefile kmeans_cpu.c\n",
        "#include <stdio.h>\n",
        "#include <stdlib.h>\n",
        "#include <time.h>\n",
        "#include <math.h>\n",
        "#include <string.h>\n",
        "\n",
        "#define MAX_ITER 10\n",
        "#define MAX_LINE_LENGTH 1024\n",
        "\n",
        "// Function to read CSV data\n",
        "int readCSVData(const char *filename, float **data, int *num_points, int *num_dims) {\n",
        "    FILE *file = fopen(filename, \"r\");\n",
        "    if (!file) {\n",
        "        perror(\"Unable to open file\");\n",
        "        return -1;\n",
        "    }\n",
        "\n",
        "    char line[MAX_LINE_LENGTH];\n",
        "    int n = 0, d = 0;\n",
        "\n",
        "    // Read first line to determine the number of dimensions\n",
        "    if (fgets(line, MAX_LINE_LENGTH, file)) {\n",
        "        char *token = strtok(line, \",\");\n",
        "        while (token) {\n",
        "            d++;\n",
        "            token = strtok(NULL, \",\");\n",
        "        }\n",
        "    }\n",
        "\n",
        "    // Count number of points\n",
        "    while (fgets(line, MAX_LINE_LENGTH, file)) {\n",
        "        n++;\n",
        "    }\n",
        "\n",
        "    // Allocate memory for data\n",
        "    *data = (float *)malloc(n * d * sizeof(float));\n",
        "    if (!*data) {\n",
        "        perror(\"Unable to allocate memory\");\n",
        "        fclose(file);\n",
        "        return -1;\n",
        "    }\n",
        "\n",
        "    rewind(file);\n",
        "\n",
        "    // Read data into the array\n",
        "    int point = 0;\n",
        "    while (fgets(line, MAX_LINE_LENGTH, file)) {\n",
        "        char *token = strtok(line, \",\");\n",
        "        int dim = 0;\n",
        "        while (token) {\n",
        "            (*data)[point * d + dim] = atof(token);\n",
        "            token = strtok(NULL, \",\");\n",
        "            dim++;\n",
        "        }\n",
        "        point++;\n",
        "    }\n",
        "\n",
        "    fclose(file);\n",
        "\n",
        "    *num_points = n;\n",
        "    *num_dims = d;\n",
        "\n",
        "    return 0;\n",
        "}\n",
        "\n",
        "float distance(float *a, float *b, int dims) {\n",
        "    float dist = 0;\n",
        "    for (int i = 0; i < dims; ++i) {\n",
        "        dist += (a[i] - b[i]) * (a[i] - b[i]);\n",
        "    }\n",
        "    return sqrt(dist);\n",
        "}\n",
        "\n",
        "void kMeansClusterAssignment(float *datapoints, int *clust_assn, float *centroids, int N, int K, int D) {\n",
        "    for (int p = 0; p < N; ++p) {\n",
        "        float min_dist = INFINITY;\n",
        "        int closest_centroid = 0;\n",
        "\n",
        "        for (int c = 0; c < K; ++c) {\n",
        "            float dist = distance(&datapoints[p * D], &centroids[c * D], D);\n",
        "            if (dist < min_dist) {\n",
        "                min_dist = dist;\n",
        "                closest_centroid = c;\n",
        "            }\n",
        "        }\n",
        "        clust_assn[p] = closest_centroid;\n",
        "    }\n",
        "}\n",
        "\n",
        "void kMeansCentroidUpdate(float *datapoints, int *clust_assn, float *centroids, int *clust_sizes, int N, int K, int D) {\n",
        "    // Reset centroids and sizes\n",
        "    for (int c = 0; c < K; ++c) {\n",
        "        clust_sizes[c] = 0;\n",
        "        for (int d = 0; d < D; ++d) {\n",
        "            centroids[c * D + d] = 0;\n",
        "        }\n",
        "    }\n",
        "\n",
        "    // Sum all points in each cluster\n",
        "    for (int p = 0; p < N; ++p) {\n",
        "        int cluster_id = clust_assn[p];\n",
        "        for (int d = 0; d < D; ++d) {\n",
        "            centroids[cluster_id * D + d] += datapoints[p * D + d];\n",
        "        }\n",
        "        clust_sizes[cluster_id] += 1;\n",
        "    }\n",
        "\n",
        "    // Normalize the centroids\n",
        "    for (int c = 0; c < K; ++c) {\n",
        "        if (clust_sizes[c] > 0) {\n",
        "            for (int d = 0; d < D; ++d) {\n",
        "                centroids[c * D + d] /= clust_sizes[c];\n",
        "            }\n",
        "        }\n",
        "    }\n",
        "}\n",
        "\n",
        "int main(int argc, char **argv) {\n",
        "    if (argc != 3) {\n",
        "        fprintf(stderr, \"Usage: %s <input.csv> <K>\\n\", argv[0]);\n",
        "        return -1;\n",
        "    }\n",
        "\n",
        "    const char *filename = argv[1];\n",
        "    int K = atoi(argv[2]);\n",
        "\n",
        "    float *datapoints;\n",
        "    int *clust_assn;\n",
        "    float *centroids;\n",
        "    int *clust_sizes;\n",
        "    int num_points = 0;\n",
        "    int num_dims = 0;\n",
        "\n",
        "    if (readCSVData(filename, &datapoints, &num_points, &num_dims) != 0) {\n",
        "        fprintf(stderr, \"Error reading data from file\\n\");\n",
        "        return -1;\n",
        "    }\n",
        "\n",
        "    clust_assn = (int *)malloc(num_points * sizeof(int));\n",
        "    centroids = (float *)malloc(K * num_dims * sizeof(float));\n",
        "    clust_sizes = (int *)malloc(K * sizeof(int));\n",
        "\n",
        "    // Initialize centroids (choose first K points as initial centroids)\n",
        "    for (int c = 0; c < K; ++c) {\n",
        "        for (int d = 0; d < num_dims; ++d) {\n",
        "            centroids[c * num_dims + d] = datapoints[c * num_dims + d];\n",
        "        }\n",
        "        clust_sizes[c] = 0;\n",
        "    }\n",
        "\n",
        "    clock_t start_total = clock();\n",
        "\n",
        "    for (int cur_iter = 0; cur_iter < MAX_ITER; ++cur_iter) {\n",
        "        kMeansClusterAssignment(datapoints, clust_assn, centroids, num_points, K, num_dims);\n",
        "        kMeansCentroidUpdate(datapoints, clust_assn, centroids, clust_sizes, num_points, K, num_dims);\n",
        "\n",
        "       /* printf(\"Iteration %d centroids:\\n\", cur_iter + 1);\n",
        "        for (int i = 0; i < K; ++i) {\n",
        "            printf(\"Centroid %d: \", i);\n",
        "            for (int j = 0; j < num_dims; ++j) {\n",
        "                printf(\"%f \", centroids[i * num_dims + j]);\n",
        "            }\n",
        "            printf(\"\\n\");\n",
        "        }*/\n",
        "    }\n",
        "\n",
        "    clock_t stop_total = clock();\n",
        "    double total_time = (double)(stop_total - start_total) / CLOCKS_PER_SEC;\n",
        "    printf(\"Total time : %f seconds\\n\", total_time);\n",
        "\n",
        "    free(datapoints);\n",
        "    free(clust_assn);\n",
        "    free(centroids);\n",
        "    free(clust_sizes);\n",
        "\n",
        "    return 0;\n",
        "}\n"
      ]
    },
    {
      "cell_type": "code",
      "execution_count": 7,
      "metadata": {
        "colab": {
          "base_uri": "https://localhost:8080/"
        },
        "id": "N1pQMQ66hHn3",
        "outputId": "d3eee143-7752-4bba-f4d2-2bd2427282d2"
      },
      "outputs": [
        {
          "output_type": "stream",
          "name": "stdout",
          "text": [
            "Total time : 0.059939 seconds\n"
          ]
        }
      ],
      "source": [
        "!g++ kmeans_cpu.c -o kmeans_cpu.out\n",
        "!./kmeans_cpu.out random_data_10000.csv 10"
      ]
    },
    {
      "cell_type": "code",
      "execution_count": 8,
      "metadata": {
        "id": "8jmIny3_zqoc",
        "colab": {
          "base_uri": "https://localhost:8080/"
        },
        "outputId": "ad5a4058-be06-40a7-b62a-e6e5ed7f7030"
      },
      "outputs": [
        {
          "output_type": "stream",
          "name": "stdout",
          "text": [
            "Total time : 0.514360 seconds\n"
          ]
        }
      ],
      "source": [
        "!g++ kmeans_cpu.c -o kmeans_cpu.out\n",
        "!./kmeans_cpu.out random_data_10000.csv 100"
      ]
    },
    {
      "cell_type": "code",
      "source": [
        "!g++ kmeans_cpu.c -o kmeans_cpu.out\n",
        "!./kmeans_cpu.out random_data_10000.csv 1000"
      ],
      "metadata": {
        "colab": {
          "base_uri": "https://localhost:8080/"
        },
        "id": "1PZQ78yWCYzQ",
        "outputId": "01ab163b-a8ba-4c61-d5da-5cb3496a9573"
      },
      "execution_count": 9,
      "outputs": [
        {
          "output_type": "stream",
          "name": "stdout",
          "text": [
            "Total time : 3.335168 seconds\n"
          ]
        }
      ]
    },
    {
      "cell_type": "code",
      "source": [
        "!g++ kmeans_cpu.c -o kmeans_cpu.out\n",
        "!./kmeans_cpu.out random_data_100000.csv 10"
      ],
      "metadata": {
        "colab": {
          "base_uri": "https://localhost:8080/"
        },
        "id": "UVElZ08gCeCd",
        "outputId": "1610fee6-24fc-41ac-95a2-b55898d95430"
      },
      "execution_count": 10,
      "outputs": [
        {
          "output_type": "stream",
          "name": "stdout",
          "text": [
            "Total time : 0.404125 seconds\n"
          ]
        }
      ]
    },
    {
      "cell_type": "code",
      "source": [
        "!g++ kmeans_cpu.c -o kmeans_cpu.out\n",
        "!./kmeans_cpu.out random_data_100000.csv 100"
      ],
      "metadata": {
        "colab": {
          "base_uri": "https://localhost:8080/"
        },
        "id": "YZN0rT9NCer7",
        "outputId": "0a7b5a30-3312-4d20-f99f-06a0a2166418"
      },
      "execution_count": 11,
      "outputs": [
        {
          "output_type": "stream",
          "name": "stdout",
          "text": [
            "Total time : 3.388042 seconds\n"
          ]
        }
      ]
    },
    {
      "cell_type": "code",
      "source": [
        "!g++ kmeans_cpu.c -o kmeans_cpu.out\n",
        "!./kmeans_cpu.out random_data_100000.csv 1000"
      ],
      "metadata": {
        "colab": {
          "base_uri": "https://localhost:8080/"
        },
        "id": "DwqZQYCuCfNM",
        "outputId": "02f61aa1-db97-48ac-813f-389b1d925740"
      },
      "execution_count": 12,
      "outputs": [
        {
          "output_type": "stream",
          "name": "stdout",
          "text": [
            "Total time : 41.548951 seconds\n"
          ]
        }
      ]
    },
    {
      "cell_type": "code",
      "source": [
        "!g++ kmeans_cpu.c -o kmeans_cpu.out\n",
        "!./kmeans_cpu.out random_data_1000000.csv 10"
      ],
      "metadata": {
        "colab": {
          "base_uri": "https://localhost:8080/"
        },
        "id": "Jry9uCoGCq_a",
        "outputId": "8951cc49-c243-4714-d280-22ff8370a780"
      },
      "execution_count": 13,
      "outputs": [
        {
          "output_type": "stream",
          "name": "stdout",
          "text": [
            "Total time : 5.506077 seconds\n"
          ]
        }
      ]
    },
    {
      "cell_type": "code",
      "source": [
        "!g++ kmeans_cpu.c -o kmeans_cpu.out\n",
        "!./kmeans_cpu.out random_data_1000000.csv 100"
      ],
      "metadata": {
        "colab": {
          "base_uri": "https://localhost:8080/"
        },
        "id": "9pomofzbCsr5",
        "outputId": "b79d9d23-11f7-45e0-9459-eb4b2d2caf25"
      },
      "execution_count": 14,
      "outputs": [
        {
          "output_type": "stream",
          "name": "stdout",
          "text": [
            "Total time : 44.086444 seconds\n"
          ]
        }
      ]
    },
    {
      "cell_type": "code",
      "source": [
        "!g++ kmeans_cpu.c -o kmeans_cpu.out\n",
        "!./kmeans_cpu.out random_data_1000000.csv 1000"
      ],
      "metadata": {
        "colab": {
          "base_uri": "https://localhost:8080/"
        },
        "id": "G5UOfhqGCvEv",
        "outputId": "354ed9ea-3cf8-4ebe-b111-150b1ad14e07"
      },
      "execution_count": 15,
      "outputs": [
        {
          "output_type": "stream",
          "name": "stdout",
          "text": [
            "Total time : 415.071644 seconds\n"
          ]
        }
      ]
    },
    {
      "cell_type": "code",
      "source": [
        "!g++ kmeans_cpu.c -o kmeans_cpu.out\n",
        "!./kmeans_cpu.out random_data_10000000.csv 10"
      ],
      "metadata": {
        "colab": {
          "base_uri": "https://localhost:8080/"
        },
        "id": "Fb_RSS-YEsqF",
        "outputId": "2c0d0ca1-7830-460c-b32c-7a3f2cbddfb3"
      },
      "execution_count": 16,
      "outputs": [
        {
          "output_type": "stream",
          "name": "stdout",
          "text": [
            "Total time : 49.511440 seconds\n"
          ]
        }
      ]
    },
    {
      "cell_type": "code",
      "source": [
        "!g++ kmeans_cpu.c -o kmeans_cpu.out\n",
        "!./kmeans_cpu.out random_data_10000000.csv 100"
      ],
      "metadata": {
        "colab": {
          "base_uri": "https://localhost:8080/"
        },
        "id": "T2bMLfd0EtLV",
        "outputId": "ce87b76f-5027-4b62-e3cf-f4ca2c680f7e"
      },
      "execution_count": 17,
      "outputs": [
        {
          "output_type": "stream",
          "name": "stdout",
          "text": [
            "Total time : 428.748454 seconds\n"
          ]
        }
      ]
    },
    {
      "cell_type": "code",
      "source": [
        "!g++ kmeans_cpu.c -o kmeans_cpu.out\n",
        "!./kmeans_cpu.out random_data_10000000.csv 1000"
      ],
      "metadata": {
        "colab": {
          "base_uri": "https://localhost:8080/"
        },
        "id": "ztmQrtwrEt2M",
        "outputId": "92c3b0cb-6123-4570-ffcd-8c2a38568d21"
      },
      "execution_count": 18,
      "outputs": [
        {
          "output_type": "stream",
          "name": "stdout",
          "text": [
            "Total time : 4156.124091 seconds\n"
          ]
        }
      ]
    }
  ],
  "metadata": {
    "colab": {
      "provenance": []
    },
    "kernelspec": {
      "display_name": "Python 3",
      "name": "python3"
    },
    "language_info": {
      "name": "python"
    }
  },
  "nbformat": 4,
  "nbformat_minor": 0
}