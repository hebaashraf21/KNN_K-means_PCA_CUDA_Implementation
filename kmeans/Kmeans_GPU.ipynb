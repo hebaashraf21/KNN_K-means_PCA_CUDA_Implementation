{
  "cells": [
    {
      "cell_type": "code",
      "source": [
        "'''\n",
        "Maximum number of threads per block: 1024\n",
        "Maximum number of threads per SM: 2048\n",
        "Shared memory per SM: 64 KB\n",
        "Register file size per SM: 65536 registers\n",
        "\n",
        "Number of Streaming Multiprocessors (SMs): 40\n",
        "Maximum number of resident blocks per SM: 16\n",
        "'''"
      ],
      "metadata": {
        "id": "KGms-7RryfVU"
      },
      "execution_count": null,
      "outputs": []
    },
    {
      "cell_type": "code",
      "execution_count": 1,
      "metadata": {
        "colab": {
          "base_uri": "https://localhost:8080/"
        },
        "id": "q52srwlpiyrs",
        "outputId": "78ea7d58-7daa-497b-ca77-b07da35daa16"
      },
      "outputs": [
        {
          "output_type": "stream",
          "name": "stdout",
          "text": [
            "Saved 10000 samples to random_data_10000.csv\n",
            "Saved 100000 samples to random_data_100000.csv\n",
            "Saved 1000000 samples to random_data_1000000.csv\n",
            "Saved 10000000 samples to random_data_10000000.csv\n"
          ]
        }
      ],
      "source": [
        "import pandas as pd\n",
        "import numpy as np\n",
        "\n",
        "# Set the random seed for reproducibility\n",
        "np.random.seed(42)\n",
        "\n",
        "# List of different sizes for the datasets\n",
        "sizes = [10000, 100000, 1000000, 10000000]\n",
        "num_features = 5\n",
        "\n",
        "# Loop through each size and generate, then save the data\n",
        "for size in sizes:\n",
        "    # Generate random data\n",
        "    data = pd.DataFrame(np.random.randn(size, num_features), columns=[f'feature_{i}' for i in range(num_features)])\n",
        "\n",
        "    # Save the data to a CSV file\n",
        "    filename = f'random_data_{size}.csv'\n",
        "    data.to_csv(filename, index=False)\n",
        "\n",
        "    print(f'Saved {size} samples to {filename}')"
      ]
    },
    {
      "cell_type": "code",
      "execution_count": 2,
      "metadata": {
        "colab": {
          "base_uri": "https://localhost:8080/"
        },
        "id": "8jmIny3_zqoc",
        "outputId": "b10afb31-6c80-4b43-e44b-c936d581b2a6"
      },
      "outputs": [
        {
          "output_type": "stream",
          "name": "stdout",
          "text": [
            "Writing kmeans_rnd.cu\n"
          ]
        }
      ],
      "source": [
        "%%writefile kmeans_rnd.cu\n",
        "#include <stdio.h>\n",
        "#include <stdlib.h>\n",
        "#include <time.h>\n",
        "#include <math.h>\n",
        "#include <cuda.h>\n",
        "\n",
        "#define TPB 128   // Threads per block\n",
        "#define MAX_ITER 10\n",
        "#define MAX_LINE_LENGTH 1024\n",
        "\n",
        "// Function to read CSV data\n",
        "// Reads data from a CSV file.\n",
        "// Determines the number of points (num_points) and dimensions (num_dims).\n",
        "// Allocates memory for the data array.\n",
        "int readCSVData(const char *filename, float **data, int *num_points, int *num_dims) {\n",
        "    FILE *file = fopen(filename, \"r\");\n",
        "    if (!file) {\n",
        "        perror(\"Unable to open file\");\n",
        "        return -1;\n",
        "    }\n",
        "\n",
        "    char line[MAX_LINE_LENGTH];\n",
        "    int n = 0, d = 0;\n",
        "\n",
        "    // Read first line to determine the number of dimensions\n",
        "    if (fgets(line, MAX_LINE_LENGTH, file)) {\n",
        "        char *token = strtok(line, \",\");\n",
        "        while (token) {\n",
        "            d++;\n",
        "            token = strtok(NULL, \",\");\n",
        "        }\n",
        "    }\n",
        "\n",
        "    // Count number of points\n",
        "    while (fgets(line, MAX_LINE_LENGTH, file)) {\n",
        "        n++;\n",
        "    }\n",
        "\n",
        "    // Allocate memory for data\n",
        "    *data = (float *)malloc(n * d * sizeof(float));\n",
        "    if (!*data) {\n",
        "        perror(\"Unable to allocate memory\");\n",
        "        fclose(file);\n",
        "        return -1;\n",
        "    }\n",
        "\n",
        "    rewind(file);\n",
        "\n",
        "    // Read data into the array\n",
        "    int point = 0;\n",
        "    while (fgets(line, MAX_LINE_LENGTH, file)) {\n",
        "        char *token = strtok(line, \",\");\n",
        "        int dim = 0;\n",
        "        while (token) {\n",
        "            (*data)[point * d + dim] = atof(token);\n",
        "            token = strtok(NULL, \",\");\n",
        "            dim++;\n",
        "        }\n",
        "        point++;\n",
        "    }\n",
        "\n",
        "    fclose(file);\n",
        "\n",
        "    *num_points = n;\n",
        "    *num_dims = d;\n",
        "\n",
        "    return 0;\n",
        "}\n",
        "\n",
        "// Computes the Euclidean distance between two points in dims dimensions.\n",
        "__device__ float distance(float *a, float *b, int dims) {\n",
        "    float dist = 0;\n",
        "    for (int i = 0; i < dims; ++i) {\n",
        "        dist += (a[i] - b[i]) * (a[i] - b[i]);\n",
        "    }\n",
        "    return sqrt(dist);\n",
        "}\n",
        "\n",
        "// Assigns each data point to the nearest centroid.\n",
        "__global__ void kMeansClusterAssignment(float *d_datapoints, int *d_clust_assn, float *d_centroids, int N, int K, int D) {\n",
        "    int idx = blockIdx.x * blockDim.x + threadIdx.x;\n",
        "    if (idx >= N) return;\n",
        "\n",
        "    float min_dist = INFINITY;\n",
        "    int closest_centroid = 0;\n",
        "\n",
        "    for (int c = 0; c < K; ++c) {\n",
        "        float dist = distance(&d_datapoints[idx * D], &d_centroids[c * D], D);\n",
        "        if (dist < min_dist) {\n",
        "            min_dist = dist;\n",
        "            closest_centroid = c;\n",
        "        }\n",
        "    }\n",
        "    d_clust_assn[idx] = closest_centroid;\n",
        "}\n",
        "\n",
        "// Updates centroids by averaging the assigned points.\n",
        "__global__ void kMeansCentroidUpdate(float *d_datapoints, int *d_clust_assn, float *d_centroids, int *d_clust_sizes, int N, int K, int D) {\n",
        "    // This declares shared memory for each block to hold partial centroid accumulators.\n",
        "    extern __shared__ float s_centroids[];\n",
        "    // to store the count of data points assigned to each centroid. (in the shared)\n",
        "    int *s_counts = (int *)&s_centroids[K * D];\n",
        "\n",
        "    int idx = blockIdx.x * blockDim.x + threadIdx.x;\n",
        "    int tid = threadIdx.x;\n",
        "\n",
        "    // Each thread initializes its partial centroid accumulator (s_centroids) and cluster size counter (s_counts) to zero.\n",
        "    if (tid < K) {\n",
        "        for (int i = 0; i < D; ++i) {\n",
        "            s_centroids[tid * D + i] = 0;\n",
        "        }\n",
        "        s_counts[tid] = 0;\n",
        "    }\n",
        "    // to ensure proper initialization\n",
        "    __syncthreads();\n",
        "\n",
        "    // Centroid Accumulation\n",
        "    if (idx < N) {\n",
        "        int cluster_id = d_clust_assn[idx];\n",
        "        // The thread atomically accumulates the coordinates of the data point\n",
        "        // into the partial centroid accumulator (s_centroids) corresponding to its assigned cluster.\n",
        "        for (int i = 0; i < D; ++i) {\n",
        "            atomicAdd(&s_centroids[cluster_id * D + i], d_datapoints[idx * D + i]);\n",
        "        }\n",
        "\n",
        "        // increments the cluster size counter (s_counts) for the assigned cluster.\n",
        "        atomicAdd(&s_counts[cluster_id], 1);\n",
        "    }\n",
        "    // to ensure all partial accumulators and cluster size counters are updated\n",
        "    __syncthreads();\n",
        "\n",
        "    // Centroid Update:\n",
        "    if (tid < K) {\n",
        "        for (int i = 0; i < D; ++i) {\n",
        "          // Each thread atomically adds its partial centroid accumulator (s_centroids)\n",
        "          // to the corresponding centroid in the global centroids array.\n",
        "            atomicAdd(&d_centroids[tid * D + i], s_centroids[tid * D + i]);\n",
        "        }\n",
        "        // It also atomically adds its cluster size counter (s_counts)\n",
        "        // to the corresponding cluster size in the global cluster size array.\n",
        "        atomicAdd(&d_clust_sizes[tid], s_counts[tid]);\n",
        "    }\n",
        "}\n",
        "\n",
        "// Normalizes centroids by dividing the sum of points by the number of points in each cluster.\n",
        "__global__ void normalizeCentroids(float *d_centroids, int *d_clust_sizes, int K, int D) {\n",
        "    int idx = blockIdx.x * blockDim.x + threadIdx.x;\n",
        "    if (idx >= K) return;\n",
        "\n",
        "    for (int i = 0; i < D; ++i) {\n",
        "        if (d_clust_sizes[idx] > 0) {\n",
        "            d_centroids[idx * D + i] /= d_clust_sizes[idx];\n",
        "        }\n",
        "    }\n",
        "}\n",
        "\n",
        "int main(int argc, char **argv) {\n",
        "    if (argc != 3) {\n",
        "        fprintf(stderr, \"Usage: %s <input.csv> <K>\\n\", argv[0]);\n",
        "        return -1;\n",
        "    }\n",
        "\n",
        "    const char *filename = argv[1];\n",
        "    // number of clusters\n",
        "    int K = atoi(argv[2]);\n",
        "\n",
        "    float *datapoints;\n",
        "    int num_points = 0;\n",
        "    int num_dims = 0;\n",
        "\n",
        "    if (readCSVData(filename, &datapoints, &num_points, &num_dims) != 0) {\n",
        "        fprintf(stderr, \"Error reading data from file\\n\");\n",
        "        return -1;\n",
        "    }\n",
        "\n",
        "    float *d_datapoints, *d_centroids;\n",
        "    int *d_clust_assn, *d_clust_sizes;\n",
        "\n",
        "    cudaMalloc(&d_datapoints, num_points * num_dims * sizeof(float));\n",
        "    cudaMalloc(&d_clust_assn, num_points * sizeof(int));\n",
        "    cudaMalloc(&d_centroids, K * num_dims * sizeof(float));\n",
        "    // keep track of the number of points assigned to each cluster.\n",
        "    cudaMalloc(&d_clust_sizes, K * sizeof(int));\n",
        "\n",
        "    float *h_centroids = (float *)malloc(K * num_dims * sizeof(float));\n",
        "    // keep track of the number of points assigned to each cluster.\n",
        "    int *h_clust_sizes = (int *)malloc(K * sizeof(int));\n",
        "\n",
        "    srand(time(0));\n",
        "\n",
        "    // It copies the feature values from a data point to initialize the corresponding centroid.\n",
        "    for (int c = 0; c < K; ++c) {\n",
        "        for (int d = 0; d < num_dims; ++d) {\n",
        "            h_centroids[c * num_dims + d] = datapoints[c * num_dims + d];\n",
        "        }\n",
        "        h_clust_sizes[c] = 0;\n",
        "    }\n",
        "\n",
        "    cudaMemcpy(d_centroids, h_centroids, K * num_dims * sizeof(float), cudaMemcpyHostToDevice);\n",
        "    cudaMemcpy(d_datapoints, datapoints, num_points * num_dims * sizeof(float), cudaMemcpyHostToDevice);\n",
        "\n",
        "    cudaEvent_t start_total, stop_total;\n",
        "    cudaEventCreate(&start_total);\n",
        "    cudaEventCreate(&stop_total);\n",
        "\n",
        "    cudaEventRecord(start_total);\n",
        "\n",
        "    for (int cur_iter = 0; cur_iter < MAX_ITER; ++cur_iter) {\n",
        "        kMeansClusterAssignment<<<(num_points + TPB - 1) / TPB, TPB>>>(d_datapoints, d_clust_assn, d_centroids, num_points, K, num_dims);\n",
        "\n",
        "        // Reset centroids and sizes on device\n",
        "        cudaMemset(d_centroids, 0, K * num_dims * sizeof(float));\n",
        "        cudaMemset(d_clust_sizes, 0, K * sizeof(int));\n",
        "\n",
        "        /*\n",
        "        K * num_dims * sizeof(float): This calculates the size of shared memory required to store\n",
        "        the accumulator for each centroid's dimensions.\n",
        "        K * sizeof(int): This calculates the size of shared memory required to store\n",
        "        the array holding the size of each cluster.\n",
        "        */\n",
        "        size_t shared_mem_size = K * num_dims * sizeof(float) + K * sizeof(int);\n",
        "        kMeansCentroidUpdate<<<(num_points + TPB - 1) / TPB, TPB, shared_mem_size>>>(d_datapoints, d_clust_assn, d_centroids, d_clust_sizes, num_points, K, num_dims);\n",
        "\n",
        "        normalizeCentroids<<<(K + TPB - 1) / TPB, TPB>>>(d_centroids, d_clust_sizes, K, num_dims);\n",
        "\n",
        "        cudaMemcpy(h_centroids, d_centroids, K * num_dims * sizeof(float), cudaMemcpyDeviceToHost);\n",
        "\n",
        "        /*printf(\"Iteration %d centroids:\\n\", cur_iter + 1);\n",
        "        for (int i = 0; i < K; ++i) {\n",
        "            printf(\"Centroid %d: \", i);\n",
        "            for (int j = 0; j < num_dims; ++j) {\n",
        "                printf(\"%f \", h_centroids[i * num_dims + j]);\n",
        "            }\n",
        "            printf(\"\\n\");\n",
        "        }*/\n",
        "    }\n",
        "\n",
        "    cudaEventRecord(stop_total);\n",
        "    cudaEventSynchronize(stop_total);\n",
        "\n",
        "    float total_milliseconds = 0;\n",
        "    cudaEventElapsedTime(&total_milliseconds, start_total, stop_total);\n",
        "    printf(\"Total time: %f seconds\\n\", total_milliseconds / 1000.0);\n",
        "\n",
        "    cudaFree(d_datapoints);\n",
        "    cudaFree(d_clust_assn);\n",
        "    cudaFree(d_centroids);\n",
        "    cudaFree(d_clust_sizes);\n",
        "\n",
        "    free(h_centroids);\n",
        "    free(datapoints);\n",
        "    free(h_clust_sizes);\n",
        "\n",
        "    return 0;\n",
        "}\n"
      ]
    },
    {
      "cell_type": "code",
      "execution_count": 3,
      "metadata": {
        "colab": {
          "base_uri": "https://localhost:8080/"
        },
        "id": "Z5yt8D0zOjJu",
        "outputId": "7dc07b8e-5a9e-4398-fc78-3fe6a17cd05a"
      },
      "outputs": [
        {
          "output_type": "stream",
          "name": "stdout",
          "text": [
            "Total time: 0.162942 seconds\n"
          ]
        }
      ],
      "source": [
        "!nvcc kmeans_rnd.cu -o kmeans_rnd\n",
        "!./kmeans_rnd random_data_10000.csv 10"
      ]
    },
    {
      "cell_type": "code",
      "source": [
        "!nvcc kmeans_rnd.cu -o kmeans_rnd\n",
        "!./kmeans_rnd random_data_10000.csv 100"
      ],
      "metadata": {
        "colab": {
          "base_uri": "https://localhost:8080/"
        },
        "id": "MGzS10rk0kff",
        "outputId": "9d6a95e2-2dae-4765-ff49-1e6fd7b9f5d8"
      },
      "execution_count": 4,
      "outputs": [
        {
          "output_type": "stream",
          "name": "stdout",
          "text": [
            "Total time: 0.002410 seconds\n"
          ]
        }
      ]
    },
    {
      "cell_type": "code",
      "source": [
        "!nvcc kmeans_rnd.cu -o kmeans_rnd\n",
        "!./kmeans_rnd random_data_10000.csv 1000"
      ],
      "metadata": {
        "colab": {
          "base_uri": "https://localhost:8080/"
        },
        "id": "AadLOBG00lOF",
        "outputId": "6e909eca-3b40-4709-d362-4bc66f1f575d"
      },
      "execution_count": 5,
      "outputs": [
        {
          "output_type": "stream",
          "name": "stdout",
          "text": [
            "Total time: 0.009373 seconds\n"
          ]
        }
      ]
    },
    {
      "cell_type": "code",
      "source": [
        "!nvcc kmeans_rnd.cu -o kmeans_rnd\n",
        "!./kmeans_rnd random_data_100000.csv 10"
      ],
      "metadata": {
        "colab": {
          "base_uri": "https://localhost:8080/"
        },
        "id": "n9TOpNu90mqN",
        "outputId": "fe39950d-3e35-4d7d-e32d-4c3c9e0e3563"
      },
      "execution_count": 6,
      "outputs": [
        {
          "output_type": "stream",
          "name": "stdout",
          "text": [
            "Total time: 0.001900 seconds\n"
          ]
        }
      ]
    },
    {
      "cell_type": "code",
      "source": [
        "!nvcc kmeans_rnd.cu -o kmeans_rnd\n",
        "!./kmeans_rnd random_data_100000.csv 100"
      ],
      "metadata": {
        "colab": {
          "base_uri": "https://localhost:8080/"
        },
        "id": "4xoJPm9D0plN",
        "outputId": "05ff5b62-c8e6-4d58-88cd-7046cb4fe387"
      },
      "execution_count": 7,
      "outputs": [
        {
          "output_type": "stream",
          "name": "stdout",
          "text": [
            "Total time: 0.006472 seconds\n"
          ]
        }
      ]
    },
    {
      "cell_type": "code",
      "source": [
        "!nvcc kmeans_rnd.cu -o kmeans_rnd\n",
        "!./kmeans_rnd random_data_100000.csv 1000"
      ],
      "metadata": {
        "colab": {
          "base_uri": "https://localhost:8080/"
        },
        "id": "1enDomKt0qeo",
        "outputId": "e20950e8-47ce-4529-e890-034b10f0c123"
      },
      "execution_count": 8,
      "outputs": [
        {
          "output_type": "stream",
          "name": "stdout",
          "text": [
            "Total time: 0.047023 seconds\n"
          ]
        }
      ]
    },
    {
      "cell_type": "code",
      "source": [
        "!nvcc kmeans_rnd.cu -o kmeans_rnd\n",
        "!./kmeans_rnd random_data_1000000.csv 10"
      ],
      "metadata": {
        "colab": {
          "base_uri": "https://localhost:8080/"
        },
        "id": "HffUeXg50rT-",
        "outputId": "9e9ca73a-68d9-480b-bb78-662a6fe40cc5"
      },
      "execution_count": 9,
      "outputs": [
        {
          "output_type": "stream",
          "name": "stdout",
          "text": [
            "Total time: 0.010275 seconds\n"
          ]
        }
      ]
    },
    {
      "cell_type": "code",
      "source": [
        "!nvcc kmeans_rnd.cu -o kmeans_rnd\n",
        "!./kmeans_rnd random_data_1000000.csv 100"
      ],
      "metadata": {
        "colab": {
          "base_uri": "https://localhost:8080/"
        },
        "id": "DysNmjwp0sgE",
        "outputId": "3da61785-dfb7-4b1a-a84e-14c35bcb5bcc"
      },
      "execution_count": 10,
      "outputs": [
        {
          "output_type": "stream",
          "name": "stdout",
          "text": [
            "Total time: 0.055242 seconds\n"
          ]
        }
      ]
    },
    {
      "cell_type": "code",
      "source": [
        "!nvcc kmeans_rnd.cu -o kmeans_rnd\n",
        "!./kmeans_rnd random_data_1000000.csv 1000"
      ],
      "metadata": {
        "colab": {
          "base_uri": "https://localhost:8080/"
        },
        "id": "pXyNCtsh0uFG",
        "outputId": "63982c6c-40fa-402f-eff9-1ddd21c5e0f8"
      },
      "execution_count": 11,
      "outputs": [
        {
          "output_type": "stream",
          "name": "stdout",
          "text": [
            "Total time: 0.351849 seconds\n"
          ]
        }
      ]
    },
    {
      "cell_type": "code",
      "source": [
        "!nvcc kmeans_rnd.cu -o kmeans_rnd\n",
        "!./kmeans_rnd random_data_10000000.csv 10"
      ],
      "metadata": {
        "colab": {
          "base_uri": "https://localhost:8080/"
        },
        "id": "SHt-_Rt30vJK",
        "outputId": "cd16ec14-1c26-4045-9b2b-95900a0d68e4"
      },
      "execution_count": 12,
      "outputs": [
        {
          "output_type": "stream",
          "name": "stdout",
          "text": [
            "Total time: 0.094760 seconds\n"
          ]
        }
      ]
    },
    {
      "cell_type": "code",
      "source": [
        "!nvcc kmeans_rnd.cu -o kmeans_rnd\n",
        "!./kmeans_rnd random_data_10000000.csv 100"
      ],
      "metadata": {
        "colab": {
          "base_uri": "https://localhost:8080/"
        },
        "id": "_S4nYcWT0wvD",
        "outputId": "142c2fdd-739e-428b-8937-3d5b50fa73fa"
      },
      "execution_count": 13,
      "outputs": [
        {
          "output_type": "stream",
          "name": "stdout",
          "text": [
            "Total time: 0.409743 seconds\n"
          ]
        }
      ]
    },
    {
      "cell_type": "code",
      "source": [
        "!nvcc kmeans_rnd.cu -o kmeans_rnd\n",
        "!./kmeans_rnd random_data_10000000.csv 1000"
      ],
      "metadata": {
        "colab": {
          "base_uri": "https://localhost:8080/"
        },
        "id": "b7UkQQ180y3Y",
        "outputId": "42814682-5854-4566-ff26-ad2905357af6"
      },
      "execution_count": 14,
      "outputs": [
        {
          "output_type": "stream",
          "name": "stdout",
          "text": [
            "Total time: 2.251465 seconds\n"
          ]
        }
      ]
    }
  ],
  "metadata": {
    "colab": {
      "provenance": [],
      "gpuType": "T4"
    },
    "kernelspec": {
      "display_name": "Python 3",
      "name": "python3"
    },
    "language_info": {
      "name": "python"
    },
    "accelerator": "GPU"
  },
  "nbformat": 4,
  "nbformat_minor": 0
}