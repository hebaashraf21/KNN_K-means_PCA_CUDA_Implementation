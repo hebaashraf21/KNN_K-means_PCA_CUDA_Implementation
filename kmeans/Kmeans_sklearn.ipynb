{
  "cells": [
    {
      "cell_type": "markdown",
      "source": [
        "Generate the data"
      ],
      "metadata": {
        "id": "-9x9Neoe_G66"
      }
    },
    {
      "cell_type": "code",
      "source": [
        "import pandas as pd\n",
        "import numpy as np\n",
        "\n",
        "# Set the random seed for reproducibility\n",
        "np.random.seed(42)\n",
        "\n",
        "# List of different sizes for the datasets\n",
        "sizes = [10000, 100000, 1000000]\n",
        "num_features = 5\n",
        "\n",
        "# Loop through each size and generate, then save the data\n",
        "for size in sizes:\n",
        "    # Generate random data\n",
        "    data = pd.DataFrame(np.random.randn(size, num_features), columns=[f'feature_{i}' for i in range(num_features)])\n",
        "\n",
        "    # Save the data to a CSV file\n",
        "    filename = f'random_data_{size}.csv'\n",
        "    data.to_csv(filename, index=False)\n",
        "\n",
        "    print(f'Saved {size} samples to {filename}')"
      ],
      "metadata": {
        "colab": {
          "base_uri": "https://localhost:8080/"
        },
        "id": "EuJVbqms_GQG",
        "outputId": "a50bbdcc-9c7d-427d-be32-bd988ac4798c"
      },
      "execution_count": 2,
      "outputs": [
        {
          "output_type": "stream",
          "name": "stdout",
          "text": [
            "Saved 10000 samples to random_data_10000.csv\n",
            "Saved 100000 samples to random_data_100000.csv\n",
            "Saved 1000000 samples to random_data_1000000.csv\n",
            "Saved 10000000 samples to random_data_10000000.csv\n"
          ]
        }
      ]
    },
    {
      "cell_type": "markdown",
      "source": [
        "KMeans from sklearn"
      ],
      "metadata": {
        "id": "L_o1w3BOLWBr"
      }
    },
    {
      "cell_type": "code",
      "source": [
        "import pandas as pd\n",
        "from sklearn.preprocessing import StandardScaler\n",
        "from sklearn.cluster import KMeans\n",
        "import numpy as np\n",
        "import time\n",
        "\n",
        "# Initialize an empty list to store the results\n",
        "results = []\n",
        "\n",
        "# List of different sizes for the datasets\n",
        "sizes = [10000, 100000, 1000000]\n",
        "num_features = 5\n",
        "\n",
        "# List of different numbers of clusters to try\n",
        "cluster_numbers = [10, 100, 1000]\n",
        "\n",
        "for size in sizes:\n",
        "    # Load the data from the CSV file\n",
        "    filename = f'random_data_{size}.csv'\n",
        "    data = pd.read_csv(filename)\n",
        "\n",
        "    # Standardize the features\n",
        "    scaler = StandardScaler()\n",
        "    scaled_data = scaler.fit_transform(data)\n",
        "\n",
        "    for num_clusters in cluster_numbers:\n",
        "        # Measure the start time\n",
        "        start_time = time.time()\n",
        "\n",
        "        # Apply K-means clustering\n",
        "        kmeans = KMeans(n_clusters=num_clusters, random_state=42, max_iter=10)\n",
        "        kmeans.fit(scaled_data)\n",
        "\n",
        "        # Measure the end time\n",
        "        end_time = time.time()\n",
        "\n",
        "        # Calculate the time taken for K-means clustering\n",
        "        clustering_time = end_time - start_time\n",
        "\n",
        "        # Add the results to the list\n",
        "        results.append({'Data Size': size, 'Clusters': num_clusters, 'Time (seconds)': clustering_time})\n",
        "\n",
        "# Create a DataFrame from the results list\n",
        "results_df = pd.DataFrame(results)\n",
        "\n",
        "# Print the table\n",
        "print(results_df)"
      ],
      "metadata": {
        "colab": {
          "base_uri": "https://localhost:8080/"
        },
        "id": "i-zZllnqGY--",
        "outputId": "e2d9412f-c629-463b-ed7b-0d2005e653d0"
      },
      "execution_count": 6,
      "outputs": [
        {
          "metadata": {
            "tags": null
          },
          "name": "stderr",
          "output_type": "stream",
          "text": [
            "/usr/local/lib/python3.10/dist-packages/sklearn/cluster/_kmeans.py:870: FutureWarning: The default value of `n_init` will change from 10 to 'auto' in 1.4. Set the value of `n_init` explicitly to suppress the warning\n",
            "  warnings.warn(\n",
            "/usr/local/lib/python3.10/dist-packages/sklearn/cluster/_kmeans.py:870: FutureWarning: The default value of `n_init` will change from 10 to 'auto' in 1.4. Set the value of `n_init` explicitly to suppress the warning\n",
            "  warnings.warn(\n",
            "/usr/local/lib/python3.10/dist-packages/sklearn/cluster/_kmeans.py:870: FutureWarning: The default value of `n_init` will change from 10 to 'auto' in 1.4. Set the value of `n_init` explicitly to suppress the warning\n",
            "  warnings.warn(\n",
            "/usr/local/lib/python3.10/dist-packages/sklearn/cluster/_kmeans.py:870: FutureWarning: The default value of `n_init` will change from 10 to 'auto' in 1.4. Set the value of `n_init` explicitly to suppress the warning\n",
            "  warnings.warn(\n",
            "/usr/local/lib/python3.10/dist-packages/sklearn/cluster/_kmeans.py:870: FutureWarning: The default value of `n_init` will change from 10 to 'auto' in 1.4. Set the value of `n_init` explicitly to suppress the warning\n",
            "  warnings.warn(\n",
            "/usr/local/lib/python3.10/dist-packages/sklearn/cluster/_kmeans.py:870: FutureWarning: The default value of `n_init` will change from 10 to 'auto' in 1.4. Set the value of `n_init` explicitly to suppress the warning\n",
            "  warnings.warn(\n",
            "/usr/local/lib/python3.10/dist-packages/sklearn/cluster/_kmeans.py:870: FutureWarning: The default value of `n_init` will change from 10 to 'auto' in 1.4. Set the value of `n_init` explicitly to suppress the warning\n",
            "  warnings.warn(\n",
            "/usr/local/lib/python3.10/dist-packages/sklearn/cluster/_kmeans.py:870: FutureWarning: The default value of `n_init` will change from 10 to 'auto' in 1.4. Set the value of `n_init` explicitly to suppress the warning\n",
            "  warnings.warn(\n",
            "/usr/local/lib/python3.10/dist-packages/sklearn/cluster/_kmeans.py:870: FutureWarning: The default value of `n_init` will change from 10 to 'auto' in 1.4. Set the value of `n_init` explicitly to suppress the warning\n",
            "  warnings.warn(\n"
          ]
        },
        {
          "output_type": "stream",
          "name": "stdout",
          "text": [
            "   Data Size  Clusters  Time (seconds)\n",
            "0      10000        10        0.842065\n",
            "1      10000       100        2.387318\n",
            "2      10000      1000       41.758798\n",
            "3     100000        10        4.466653\n",
            "4     100000       100       16.375293\n",
            "5     100000      1000      143.831143\n",
            "6    1000000        10       10.407497\n",
            "7    1000000       100      141.549031\n",
            "8    1000000      1000     1593.802099\n"
          ]
        }
      ]
    }
  ],
  "metadata": {
    "colab": {
      "provenance": []
    },
    "kernelspec": {
      "display_name": "Python 3",
      "name": "python3"
    },
    "language_info": {
      "name": "python"
    }
  },
  "nbformat": 4,
  "nbformat_minor": 0
}