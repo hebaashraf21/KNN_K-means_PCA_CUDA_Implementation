{
  "nbformat": 4,
  "nbformat_minor": 0,
  "metadata": {
    "colab": {
      "provenance": [],
      "gpuType": "T4"
    },
    "kernelspec": {
      "name": "python3",
      "display_name": "Python 3"
    },
    "language_info": {
      "name": "python"
    },
    "accelerator": "GPU"
  },
  "cells": [
    {
      "cell_type": "code",
      "source": [
        "import pandas as pd\n",
        "import numpy as np\n",
        "import tensorflow as tf\n",
        "import time\n",
        "\n",
        "# Load the data from the CSV file\n",
        "sizes = [10000, 100000, 1000000, 10000000]\n",
        "num_features = 5\n",
        "cluster_numbers = [10, 100, 1000]\n",
        "\n",
        "def kmeans(X, num_clusters, max_iterations=10):\n",
        "    # Initialize centroids randomly\n",
        "    centroids = tf.Variable(tf.slice(tf.random.shuffle(X), [0, 0], [num_clusters, -1]))\n",
        "\n",
        "    for _ in range(max_iterations):\n",
        "        # Assign each point to the nearest centroid\n",
        "        distances = tf.reduce_sum((tf.expand_dims(X, axis=1) - tf.expand_dims(centroids, axis=0)) ** 2, axis=2)\n",
        "        assignments = tf.argmin(distances, axis=1)\n",
        "\n",
        "        # Update centroids based on the mean of the assigned points\n",
        "        new_centroids = tf.concat([tf.reduce_mean(tf.gather(X, tf.reshape(tf.where(tf.equal(assignments, c)), [1, -1])), axis=1) for c in range(num_clusters)], axis=0)\n",
        "        centroids.assign(new_centroids)\n",
        "\n",
        "    return centroids\n",
        "\n",
        "results = []\n",
        "\n",
        "# Define TensorFlow GPU options\n",
        "gpu_options = tf.compat.v1.GPUOptions(per_process_gpu_memory_fraction=0.5)\n",
        "\n",
        "# Create TensorFlow session with GPU options\n",
        "with tf.compat.v1.Session(config=tf.compat.v1.ConfigProto(gpu_options=gpu_options)) as sess:\n",
        "    for size in sizes:\n",
        "        filename = f'random_data_{size}.csv'\n",
        "        data = pd.read_csv(filename).values\n",
        "        scaler = StandardScaler()\n",
        "        scaled_data = scaler.fit_transform(data)\n",
        "\n",
        "        for num_clusters in cluster_numbers:\n",
        "            start_time = time.time()\n",
        "\n",
        "            # Convert data to TensorFlow tensor\n",
        "            X_tensor = tf.convert_to_tensor(scaled_data, dtype=tf.float32)\n",
        "\n",
        "            # Run KMeans clustering on GPU\n",
        "            with tf.device('/device:GPU:0'):  # Use GPU\n",
        "                centroids = kmeans(X_tensor, num_clusters)\n",
        "\n",
        "            end_time = time.time()\n",
        "\n",
        "            clustering_time = end_time - start_time\n",
        "\n",
        "            results.append({'Data Size': size, 'Clusters': num_clusters, 'Time (seconds)': clustering_time})\n",
        "\n",
        "results_df = pd.DataFrame(results)\n",
        "print(results_df)"
      ],
      "metadata": {
        "colab": {
          "base_uri": "https://localhost:8080/"
        },
        "id": "ZaH4Z_botLp-",
        "outputId": "a8ad7822-9ec2-45d1-e5c1-ed1056e4e6a4"
      },
      "execution_count": 11,
      "outputs": [
        {
          "output_type": "stream",
          "name": "stdout",
          "text": [
            "    Data Size  Clusters  Time (seconds)\n",
            "0       10000        10        0.871729\n",
            "1       10000       100        6.014540\n",
            "2       10000      1000       49.041308\n",
            "3      100000        10        0.471055\n",
            "4      100000       100        4.323267\n",
            "5      100000      1000       51.076926\n",
            "6     1000000        10        0.604169\n",
            "7     1000000       100        4.198499\n",
            "8     1000000      1000       51.030580\n",
            "9    10000000        10        2.929545\n",
            "10   10000000       100       10.118102\n",
            "11   10000000      1000       53.169064\n"
          ]
        }
      ]
    }
  ]
}