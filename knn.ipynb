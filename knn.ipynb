{
  "nbformat": 4,
  "nbformat_minor": 0,
  "metadata": {
    "colab": {
      "provenance": [],
      "gpuType": "T4",
      "authorship_tag": "ABX9TyM0WzrZfS957I6ORZriCjm7",
      "include_colab_link": true
    },
    "kernelspec": {
      "name": "python3",
      "display_name": "Python 3"
    },
    "language_info": {
      "name": "python"
    },
    "accelerator": "GPU"
  },
  "cells": [
    {
      "cell_type": "markdown",
      "metadata": {
        "id": "view-in-github",
        "colab_type": "text"
      },
      "source": [
        "<a href=\"https://colab.research.google.com/github/hebaashraf21/KNN_K-means_PCA_CUDA_Implementation/blob/main/knn.ipynb\" target=\"_parent\"><img src=\"https://colab.research.google.com/assets/colab-badge.svg\" alt=\"Open In Colab\"/></a>"
      ]
    },
    {
      "cell_type": "code",
      "execution_count": 5,
      "metadata": {
        "colab": {
          "base_uri": "https://localhost:8080/"
        },
        "id": "Yhj1VwtnkwEL",
        "outputId": "a5d489ed-afc8-4c02-f3ee-41fe2fb9c674"
      },
      "outputs": [
        {
          "output_type": "stream",
          "name": "stdout",
          "text": [
            "Collecting git+https://github.com/andreinechaev/nvcc4jupyter.git\n",
            "  Cloning https://github.com/andreinechaev/nvcc4jupyter.git to /tmp/pip-req-build-7y0yaj8_\n",
            "  Running command git clone --filter=blob:none --quiet https://github.com/andreinechaev/nvcc4jupyter.git /tmp/pip-req-build-7y0yaj8_\n",
            "  Resolved https://github.com/andreinechaev/nvcc4jupyter.git to commit 326b0a57a80c6d0b4bad25ca7adf8138419ef1cb\n",
            "  Installing build dependencies ... \u001b[?25l\u001b[?25hdone\n",
            "  Getting requirements to build wheel ... \u001b[?25l\u001b[?25hdone\n",
            "  Preparing metadata (pyproject.toml) ... \u001b[?25l\u001b[?25hdone\n",
            "Building wheels for collected packages: nvcc4jupyter\n",
            "  Building wheel for nvcc4jupyter (pyproject.toml) ... \u001b[?25l\u001b[?25hdone\n",
            "  Created wheel for nvcc4jupyter: filename=nvcc4jupyter-1.2.1-py3-none-any.whl size=10741 sha256=1c43b610d84440f376c57bb0b3d20f87e2433fdb6f06eb98d5fd7c81c461a971\n",
            "  Stored in directory: /tmp/pip-ephem-wheel-cache-4l9fjsyf/wheels/a8/b9/18/23f8ef71ceb0f63297dd1903aedd067e6243a68ea756d6feea\n",
            "Successfully built nvcc4jupyter\n",
            "Installing collected packages: nvcc4jupyter\n",
            "Successfully installed nvcc4jupyter-1.2.1\n",
            "Detected platform \"Colab\". Running its setup...\n",
            "Source files will be saved in \"/tmp/tmpstj_e3yu\".\n"
          ]
        }
      ],
      "source": [
        "# Setup cuda environment\n",
        "!pip install git+https://github.com/andreinechaev/nvcc4jupyter.git\n",
        "%load_ext nvcc4jupyter"
      ]
    },
    {
      "cell_type": "code",
      "source": [
        "import time\n",
        "import numpy as np\n",
        "from numba import cuda\n",
        "\n",
        "\n",
        "def knn_without_cuda(reference_points, query_points, k):\n",
        "    results = []\n",
        "    for query_point in query_points:\n",
        "        distances = np.linalg.norm(reference_points - query_point, axis=1)\n",
        "        nearest_indices = np.argsort(distances)[:k]\n",
        "        results.append(nearest_indices)\n",
        "    return results\n",
        "\n",
        "\n",
        "\n",
        "# Generate sample data\n",
        "reference_points = np.random.rand(100000, 3)\n",
        "query_points = np.random.rand(10000, 3)\n",
        "k = 5\n",
        "\n",
        "# Measure time for non-CUDA implementation\n",
        "start_time = time.time()\n",
        "knn_without_cuda(reference_points, query_points, k)\n",
        "end_time = time.time()\n",
        "print(\"Time taken without CUDA:\", end_time - start_time, \"seconds\")\n",
        "\n"
      ],
      "metadata": {
        "colab": {
          "base_uri": "https://localhost:8080/"
        },
        "id": "49qpyxXSkwwE",
        "outputId": "890ea585-5dbb-4f96-c26e-7c022f85fcbf"
      },
      "execution_count": 13,
      "outputs": [
        {
          "output_type": "stream",
          "name": "stdout",
          "text": [
            "Time taken without CUDA: 128.67473578453064 seconds\n"
          ]
        }
      ]
    },
    {
      "cell_type": "code",
      "source": [
        "%%writefile knn.cu\n",
        "\n",
        "#include <stdio.h>\n",
        "#include <stdlib.h>\n",
        "#include <math.h>\n",
        "#include <assert.h>\n",
        "#include <cuda_runtime.h>\n",
        "\n",
        "#define MAX_ERR 1e-6\n",
        "\n",
        "__global__ void knn_kernel(float *reference_points, float *query_points, int *results, int n, int m, int k, int dim) {\n",
        "    int idx = blockIdx.x * blockDim.x + threadIdx.x;\n",
        "    if (idx < m) {\n",
        "        float min_distance = INFINITY;\n",
        "        int min_index = -1;\n",
        "        for (int i = 0; i < n; ++i) {\n",
        "            float distance = 0;\n",
        "            for (int j = 0; j < dim; ++j) {\n",
        "                float diff = reference_points[i * dim + j] - query_points[idx * dim + j];\n",
        "                distance += diff * diff;\n",
        "            }\n",
        "            if (distance < min_distance) {\n",
        "                min_distance = distance;\n",
        "                min_index = i;\n",
        "            }\n",
        "        }\n",
        "        results[idx * k] = min_index; //Storing only the nearest reference point\n",
        "    }\n",
        "}\n",
        "\n",
        "void knn_with_cuda(float *reference_points, float *query_points, int *results, int n, int m, int k, int dim) {\n",
        "    float *d_reference, *d_query;\n",
        "    int *d_results;\n",
        "\n",
        "    cudaMalloc((void **)&d_reference, sizeof(float) * dim * n);\n",
        "    cudaMalloc((void **)&d_query, sizeof(float) * dim * m);\n",
        "    cudaMalloc((void **)&d_results, sizeof(int) * m * k);\n",
        "\n",
        "    cudaMemcpy(d_reference, reference_points, sizeof(float) * dim * n, cudaMemcpyHostToDevice);\n",
        "    cudaMemcpy(d_query, query_points, sizeof(float) * dim * m, cudaMemcpyHostToDevice);\n",
        "\n",
        "    int blockSize = 256;\n",
        "    int numBlocks = (m + blockSize - 1) / blockSize;\n",
        "\n",
        "    knn_kernel<<<numBlocks, blockSize>>>(d_reference, d_query, d_results, n, m, k, dim);\n",
        "\n",
        "    cudaMemcpy(results, d_results, sizeof(int) * m * k, cudaMemcpyDeviceToHost);\n",
        "\n",
        "    cudaFree(d_reference);\n",
        "    cudaFree(d_query);\n",
        "    cudaFree(d_results);\n",
        "}\n",
        "\n",
        "int main() {\n",
        "    int n = 100000; // Number of reference points\n",
        "    int m = 10000;  // Number of query points\n",
        "    int k = 5;      // Number of nearest neighbors\n",
        "    int dim = 3;    // Dimensionality of points\n",
        "\n",
        "    float *reference_points = (float *)malloc(sizeof(float) * dim * n);\n",
        "    float *query_points = (float *)malloc(sizeof(float) * dim * m);\n",
        "    int *results = (int *)malloc(sizeof(int) * m * k);\n",
        "\n",
        "    // Initialize reference_points and query_points with random values\n",
        "    for (int i = 0; i < dim * n; ++i) {\n",
        "        reference_points[i] = static_cast<float>(rand()) / RAND_MAX;\n",
        "    }\n",
        "    for (int i = 0; i < dim * m; ++i) {\n",
        "        query_points[i] = static_cast<float>(rand()) / RAND_MAX;\n",
        "    }\n",
        "\n",
        "    cudaEvent_t start, stop;\n",
        "    cudaEventCreate(&start);\n",
        "    cudaEventCreate(&stop);\n",
        "\n",
        "    cudaEventRecord(start);\n",
        "    knn_with_cuda(reference_points, query_points, results, n, m, k, dim);\n",
        "    cudaEventRecord(stop);\n",
        "\n",
        "    cudaEventSynchronize(stop);\n",
        "    float milliseconds = 0;\n",
        "    cudaEventElapsedTime(&milliseconds, start, stop);\n",
        "    printf(\"Time taken with CUDA: %f milliseconds\\n\", milliseconds);\n",
        "\n",
        "    free(reference_points);\n",
        "    free(query_points);\n",
        "    free(results);\n",
        "\n",
        "    return 0;\n",
        "}\n"
      ],
      "metadata": {
        "colab": {
          "base_uri": "https://localhost:8080/"
        },
        "id": "BhJIyL3cl84K",
        "outputId": "0cd2f04c-e56e-47c2-c6b7-74b408bbf309"
      },
      "execution_count": 14,
      "outputs": [
        {
          "output_type": "stream",
          "name": "stdout",
          "text": [
            "Overwriting knn.cu\n"
          ]
        }
      ]
    },
    {
      "cell_type": "code",
      "source": [
        "!nvcc knn.cu -o knn\n",
        "!./knn\n"
      ],
      "metadata": {
        "colab": {
          "base_uri": "https://localhost:8080/"
        },
        "id": "JjWZXK2lqiUS",
        "outputId": "1c5c4dd4-ab23-4117-c407-ca7277f943e1"
      },
      "execution_count": 15,
      "outputs": [
        {
          "output_type": "stream",
          "name": "stdout",
          "text": [
            "Time taken with CUDA: 102.770851 milliseconds\n"
          ]
        }
      ]
    },
    {
      "cell_type": "code",
      "source": [],
      "metadata": {
        "id": "mpj2epBqqz20"
      },
      "execution_count": null,
      "outputs": []
    }
  ]
}