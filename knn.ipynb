{
  "nbformat": 4,
  "nbformat_minor": 0,
  "metadata": {
    "colab": {
      "provenance": [],
      "gpuType": "T4",
      "authorship_tag": "ABX9TyO1rEdhPa3uw/QSrnm0GcOL",
      "include_colab_link": true
    },
    "kernelspec": {
      "name": "python3",
      "display_name": "Python 3"
    },
    "language_info": {
      "name": "python"
    },
    "accelerator": "GPU"
  },
  "cells": [
    {
      "cell_type": "markdown",
      "metadata": {
        "id": "view-in-github",
        "colab_type": "text"
      },
      "source": [
        "<a href=\"https://colab.research.google.com/github/hebaashraf21/KNN_K-means_PCA_CUDA_Implementation/blob/main/knn.ipynb\" target=\"_parent\"><img src=\"https://colab.research.google.com/assets/colab-badge.svg\" alt=\"Open In Colab\"/></a>"
      ]
    },
    {
      "cell_type": "code",
      "execution_count": 5,
      "metadata": {
        "colab": {
          "base_uri": "https://localhost:8080/"
        },
        "id": "Yhj1VwtnkwEL",
        "outputId": "a5d489ed-afc8-4c02-f3ee-41fe2fb9c674"
      },
      "outputs": [
        {
          "output_type": "stream",
          "name": "stdout",
          "text": [
            "Collecting git+https://github.com/andreinechaev/nvcc4jupyter.git\n",
            "  Cloning https://github.com/andreinechaev/nvcc4jupyter.git to /tmp/pip-req-build-7y0yaj8_\n",
            "  Running command git clone --filter=blob:none --quiet https://github.com/andreinechaev/nvcc4jupyter.git /tmp/pip-req-build-7y0yaj8_\n",
            "  Resolved https://github.com/andreinechaev/nvcc4jupyter.git to commit 326b0a57a80c6d0b4bad25ca7adf8138419ef1cb\n",
            "  Installing build dependencies ... \u001b[?25l\u001b[?25hdone\n",
            "  Getting requirements to build wheel ... \u001b[?25l\u001b[?25hdone\n",
            "  Preparing metadata (pyproject.toml) ... \u001b[?25l\u001b[?25hdone\n",
            "Building wheels for collected packages: nvcc4jupyter\n",
            "  Building wheel for nvcc4jupyter (pyproject.toml) ... \u001b[?25l\u001b[?25hdone\n",
            "  Created wheel for nvcc4jupyter: filename=nvcc4jupyter-1.2.1-py3-none-any.whl size=10741 sha256=1c43b610d84440f376c57bb0b3d20f87e2433fdb6f06eb98d5fd7c81c461a971\n",
            "  Stored in directory: /tmp/pip-ephem-wheel-cache-4l9fjsyf/wheels/a8/b9/18/23f8ef71ceb0f63297dd1903aedd067e6243a68ea756d6feea\n",
            "Successfully built nvcc4jupyter\n",
            "Installing collected packages: nvcc4jupyter\n",
            "Successfully installed nvcc4jupyter-1.2.1\n",
            "Detected platform \"Colab\". Running its setup...\n",
            "Source files will be saved in \"/tmp/tmpstj_e3yu\".\n"
          ]
        }
      ],
      "source": [
        "# Setup cuda environment\n",
        "!pip install git+https://github.com/andreinechaev/nvcc4jupyter.git\n",
        "%load_ext nvcc4jupyter"
      ]
    },
    {
      "cell_type": "code",
      "source": [
        "import time\n",
        "import numpy as np\n",
        "from numba import cuda\n",
        "\n",
        "\n",
        "def knn_without_cuda(reference_points, query_points, k):\n",
        "    results = []\n",
        "    for query_point in query_points:\n",
        "        distances = np.linalg.norm(reference_points - query_point, axis=1)\n",
        "        nearest_indices = np.argsort(distances)[:k]\n",
        "        results.append(nearest_indices)\n",
        "    return results\n",
        "\n",
        "\n",
        "\n",
        "# Generate sample data\n",
        "reference_points = np.random.rand(100000, 3)\n",
        "query_points = np.random.rand(10000, 3)\n",
        "k = 5\n",
        "\n",
        "# Measure time for non-CUDA implementation\n",
        "start_time = time.time()\n",
        "knn_without_cuda(reference_points, query_points, k)\n",
        "end_time = time.time()\n",
        "print(\"Time taken without CUDA:\", end_time - start_time, \"seconds\")\n",
        "\n"
      ],
      "metadata": {
        "colab": {
          "base_uri": "https://localhost:8080/"
        },
        "id": "49qpyxXSkwwE",
        "outputId": "797f3b8b-58a0-42db-881e-f1c0de58de07"
      },
      "execution_count": 17,
      "outputs": [
        {
          "output_type": "stream",
          "name": "stdout",
          "text": [
            "Time taken without CUDA: 121.95462989807129 seconds\n"
          ]
        }
      ]
    },
    {
      "cell_type": "code",
      "source": [
        "%%writefile knn_comparison.cu\n",
        "\n",
        "#include <stdio.h>\n",
        "#include <stdlib.h>\n",
        "#include <math.h>\n",
        "#include <assert.h>\n",
        "#include <cuda_runtime.h>\n",
        "#include <time.h>\n",
        "\n",
        "#define MAX_ERR 1e-6\n",
        "\n",
        "__global__ void knn_kernel(float *reference_points, float *query_points, int *results, int n, int m, int k, int dimensions) {\n",
        "    int idx = blockIdx.x * blockDim.x + threadIdx.x;\n",
        "    if (idx < m) {\n",
        "        float distances[1000];\n",
        "        int indices[1000];\n",
        "\n",
        "        for (int i = 0; i < n; ++i) {\n",
        "            float distance = 0;\n",
        "            for (int j = 0; j < dimensions; ++j) {\n",
        "                float diff = reference_points[i * dimensions + j] - query_points[idx * dimensions + j];\n",
        "                distance += diff * diff;\n",
        "            }\n",
        "            distances[i] = distance;\n",
        "            indices[i] = i;\n",
        "        }\n",
        "\n",
        "        for (int i = 0; i < k; ++i) {\n",
        "            for (int j = i + 1; j < n; ++j) {\n",
        "                if (distances[i] > distances[j]) {\n",
        "                    float temp_distance = distances[i];\n",
        "                    distances[i] = distances[j];\n",
        "                    distances[j] = temp_distance;\n",
        "                    int temp_index = indices[i];\n",
        "                    indices[i] = indices[j];\n",
        "                    indices[j] = temp_index;\n",
        "                }\n",
        "            }\n",
        "        }\n",
        "\n",
        "        for (int i = 0; i < k; ++i) {\n",
        "            results[idx * k + i] = indices[i];\n",
        "        }\n",
        "    }\n",
        "}\n",
        "\n",
        "void knn_with_cuda(float *reference_points, float *query_points, int *results, int n, int m, int k, int dimensions) {\n",
        "    float *d_reference, *d_query;\n",
        "    int *d_results;\n",
        "\n",
        "    cudaMalloc((void **)&d_reference, sizeof(float) * dimensions * n);\n",
        "    cudaMalloc((void **)&d_query, sizeof(float) * dimensions * m);\n",
        "    cudaMalloc((void **)&d_results, sizeof(int) * m * k);\n",
        "\n",
        "    cudaMemcpy(d_reference, reference_points, sizeof(float) * dimensions * n, cudaMemcpyHostToDevice);\n",
        "    cudaMemcpy(d_query, query_points, sizeof(float) * dimensions * m, cudaMemcpyHostToDevice);\n",
        "\n",
        "    int blockSize = 256;\n",
        "    int numBlocks = (m + blockSize - 1) / blockSize;\n",
        "\n",
        "    knn_kernel<<<numBlocks, blockSize>>>(d_reference, d_query, d_results, n, m, k, dimensions);\n",
        "\n",
        "    cudaMemcpy(results, d_results, sizeof(int) * m * k, cudaMemcpyDeviceToHost);\n",
        "\n",
        "    cudaFree(d_reference);\n",
        "    cudaFree(d_query);\n",
        "    cudaFree(d_results);\n",
        "}\n",
        "\n",
        "void knn_without_cuda(float *reference_points, float *query_points, int *results, int n, int m, int k, int dimensions) {\n",
        "    for (int idx = 0; idx < m; ++idx) {\n",
        "        float *distances = (float *)malloc(n * sizeof(float));\n",
        "        int *indices = (int *)malloc(n * sizeof(int));\n",
        "        for (int i = 0; i < n; ++i) {\n",
        "            float distance = 0;\n",
        "            for (int j = 0; j < dimensions; ++j) {\n",
        "                float diff = reference_points[i * dimensions + j] - query_points[idx * dimensions + j];\n",
        "                distance += diff * diff;\n",
        "            }\n",
        "            distances[i] = distance;\n",
        "            indices[i] = i;\n",
        "        }\n",
        "        // Sort the distances and find the k smallest\n",
        "        for (int i = 0; i < n - 1; ++i) {\n",
        "            for (int j = i + 1; j < n; ++j) {\n",
        "                if (distances[i] > distances[j]) {\n",
        "                    float temp_distance = distances[i];\n",
        "                    distances[i] = distances[j];\n",
        "                    distances[j] = temp_distance;\n",
        "                    int temp_index = indices[i];\n",
        "                    indices[i] = indices[j];\n",
        "                    indices[j] = temp_index;\n",
        "                }\n",
        "            }\n",
        "        }\n",
        "        for (int i = 0; i < k; ++i) {\n",
        "            results[idx * k + i] = indices[i];\n",
        "        }\n",
        "        free(distances);\n",
        "        free(indices);\n",
        "    }\n",
        "}\n",
        "\n",
        "int main() {\n",
        "    int dimensions = 3; // Number of dimensions\n",
        "\n",
        "    // Array of different sizes for testing\n",
        "    int sizes[] = {100,1000};\n",
        "    int num_sizes = sizeof(sizes) / sizeof(sizes[0]);\n",
        "\n",
        "    float *reference_points;\n",
        "    float *query_points;\n",
        "    int *results;\n",
        "    cudaEvent_t start, stop;\n",
        "    cudaEventCreate(&start);\n",
        "    cudaEventCreate(&stop);\n",
        "\n",
        "    printf(\"Size,Time with CUDA,Time without CUDA\\n\");\n",
        "    for (int s = 0; s < num_sizes; ++s) {\n",
        "        int n = sizes[s]; // Number of reference points\n",
        "        int m = sizes[s] / 10; // Number of query points\n",
        "        int k = 5; // Number of nearest neighbors\n",
        "\n",
        "        reference_points = (float *)malloc(sizeof(float) * dimensions * n);\n",
        "        query_points = (float *)malloc(sizeof(float) * dimensions * m);\n",
        "        results = (int *)malloc(sizeof(int) * m * k);\n",
        "\n",
        "        // Initialize reference_points and query_points with random values\n",
        "        for (int i = 0; i < dimensions * n; ++i) {\n",
        "            reference_points[i] = static_cast<float>(rand()) / RAND_MAX;\n",
        "        }\n",
        "        for (int i = 0; i < dimensions * m; ++i) {\n",
        "            query_points[i] = static_cast<float>(rand()) / RAND_MAX;\n",
        "        }\n",
        "\n",
        "        // Measure time for CUDA implementation\n",
        "        cudaEventRecord(start);\n",
        "        knn_with_cuda(reference_points, query_points, results, n, m, k, dimensions);\n",
        "        cudaEventRecord(stop);\n",
        "        cudaEventSynchronize(stop);\n",
        "        float milliseconds_cuda = 0;\n",
        "        cudaEventElapsedTime(&milliseconds_cuda, start, stop);\n",
        "\n",
        "        // Measure time for non-CUDA implementation\n",
        "        clock_t start_cpu = clock();\n",
        "        knn_without_cuda(reference_points, query_points, results, n, m, k, dimensions);\n",
        "        clock_t end_cpu = clock();\n",
        "        float milliseconds_cpu = 1000.0 * (end_cpu - start_cpu) / CLOCKS_PER_SEC;\n",
        "\n",
        "        printf(\"%d,%f,%f\\n\", n, milliseconds_cuda, milliseconds_cpu);\n",
        "\n",
        "\n",
        "        free(reference_points);\n",
        "        free(query_points);\n",
        "        free(results);\n",
        "    }\n",
        "\n",
        "    cudaEventDestroy(start);\n",
        "    cudaEventDestroy(stop);\n",
        "\n",
        "    return 0;\n",
        "}\n"
      ],
      "metadata": {
        "colab": {
          "base_uri": "https://localhost:8080/"
        },
        "id": "BhJIyL3cl84K",
        "outputId": "58939044-a923-40e7-99e5-1280694d23d7"
      },
      "execution_count": 37,
      "outputs": [
        {
          "output_type": "stream",
          "name": "stdout",
          "text": [
            "Overwriting knn_comparison.cu\n"
          ]
        }
      ]
    },
    {
      "cell_type": "code",
      "source": [
        "!nvcc knn_comparison.cu -o knn_comparison\n",
        "!./knn_comparison > knn_times.csv\n"
      ],
      "metadata": {
        "id": "JjWZXK2lqiUS"
      },
      "execution_count": 38,
      "outputs": []
    },
    {
      "cell_type": "code",
      "source": [
        "import pandas as pd\n",
        "import matplotlib.pyplot as plt\n",
        "\n",
        "# Read the timing results\n",
        "data = pd.read_csv('knn_times.csv')\n",
        "\n",
        "# Plot the results\n",
        "plt.plot(data['Size'], data['Time with CUDA'], label='CUDA')\n",
        "plt.plot(data['Size'], data['Time without CUDA'], label='CPU')\n",
        "plt.xlabel('Data Size')\n",
        "plt.ylabel('Time (ms)')\n",
        "plt.title('CUDA vs CPU KNN Performance')\n",
        "plt.legend()\n",
        "plt.show()\n"
      ],
      "metadata": {
        "colab": {
          "base_uri": "https://localhost:8080/",
          "height": 472
        },
        "id": "mpj2epBqqz20",
        "outputId": "cfa6b7ea-0211-4919-9524-7ad2d3b7bdcd"
      },
      "execution_count": 39,
      "outputs": [
        {
          "output_type": "display_data",
          "data": {
            "text/plain": [
              "<Figure size 640x480 with 1 Axes>"
            ],
            "image/png": "[encoded data removed]"
          },
          "metadata": {}
        }
      ]
    },
    {
      "cell_type": "code",
      "source": [],
      "metadata": {
        "id": "8z0myHLKrQny"
      },
      "execution_count": null,
      "outputs": []
    }
  ]
}