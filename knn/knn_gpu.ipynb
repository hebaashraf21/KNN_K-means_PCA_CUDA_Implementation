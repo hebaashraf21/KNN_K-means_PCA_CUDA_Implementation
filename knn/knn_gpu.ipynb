{
  "nbformat": 4,
  "nbformat_minor": 0,
  "metadata": {
    "colab": {
      "provenance": [],
      "gpuType": "T4",
      "authorship_tag": "ABX9TyPl+8eG6Y/D6Y3X7ZI8/ORC",
      "include_colab_link": true
    },
    "kernelspec": {
      "name": "python3",
      "display_name": "Python 3"
    },
    "language_info": {
      "name": "python"
    },
    "accelerator": "GPU"
  },
  "cells": [
    {
      "cell_type": "markdown",
      "metadata": {
        "id": "view-in-github",
        "colab_type": "text"
      },
      "source": [
        "<a href=\"https://colab.research.google.com/github/hebaashraf21/KNN_K-means_PCA_CUDA_Implementation/blob/main/knn/knn_gpu.ipynb\" target=\"_parent\"><img src=\"https://colab.research.google.com/assets/colab-badge.svg\" alt=\"Open In Colab\"/></a>"
      ]
    },
    {
      "cell_type": "code",
      "execution_count": 1,
      "metadata": {
        "colab": {
          "base_uri": "https://localhost:8080/"
        },
        "id": "bJfLjbWlPJ_b",
        "outputId": "7ee81545-3784-4e84-8810-7230de3c1791"
      },
      "outputs": [
        {
          "output_type": "stream",
          "name": "stdout",
          "text": [
            "Collecting git+https://github.com/andreinechaev/nvcc4jupyter.git\n",
            "  Cloning https://github.com/andreinechaev/nvcc4jupyter.git to /tmp/pip-req-build-3dj4k1nu\n",
            "  Running command git clone --filter=blob:none --quiet https://github.com/andreinechaev/nvcc4jupyter.git /tmp/pip-req-build-3dj4k1nu\n",
            "  Resolved https://github.com/andreinechaev/nvcc4jupyter.git to commit 326b0a57a80c6d0b4bad25ca7adf8138419ef1cb\n",
            "  Installing build dependencies ... \u001b[?25l\u001b[?25hdone\n",
            "  Getting requirements to build wheel ... \u001b[?25l\u001b[?25hdone\n",
            "  Preparing metadata (pyproject.toml) ... \u001b[?25l\u001b[?25hdone\n",
            "Building wheels for collected packages: nvcc4jupyter\n",
            "  Building wheel for nvcc4jupyter (pyproject.toml) ... \u001b[?25l\u001b[?25hdone\n",
            "  Created wheel for nvcc4jupyter: filename=nvcc4jupyter-1.2.1-py3-none-any.whl size=10741 sha256=1c43b610d84440f376c57bb0b3d20f87e2433fdb6f06eb98d5fd7c81c461a971\n",
            "  Stored in directory: /tmp/pip-ephem-wheel-cache-s9x2i78e/wheels/a8/b9/18/23f8ef71ceb0f63297dd1903aedd067e6243a68ea756d6feea\n",
            "Successfully built nvcc4jupyter\n",
            "Installing collected packages: nvcc4jupyter\n",
            "Successfully installed nvcc4jupyter-1.2.1\n",
            "Detected platform \"Colab\". Running its setup...\n",
            "Source files will be saved in \"/tmp/tmpb40foodz\".\n"
          ]
        }
      ],
      "source": [
        "# Setup cuda environment\n",
        "!pip install git+https://github.com/andreinechaev/nvcc4jupyter.git\n",
        "%load_ext nvcc4jupyter"
      ]
    },
    {
      "cell_type": "code",
      "source": [
        "%%writefile knn_gpu.cu\n",
        "\n",
        "#include <stdio.h>\n",
        "#include <stdlib.h>\n",
        "#include <math.h>\n",
        "#include <cuda_runtime.h>\n",
        "#include <iostream>\n",
        "#include <chrono>\n",
        "\n",
        "#define MAX_ERR 1e-6\n",
        "\n",
        "__global__ void knn_kernel(float *reference_points, float *query_points, int *results, int n, int m, int k, int dim) {\n",
        "    int idx = blockIdx.x * blockDim.x + threadIdx.x;\n",
        "    if (idx < m) {\n",
        "        float *min_distances = new float[k];\n",
        "        int *min_indices = new int[k];\n",
        "\n",
        "        for (int i = 0; i < k; ++i) {\n",
        "            min_distances[i] = INFINITY;\n",
        "            min_indices[i] = -1;\n",
        "        }\n",
        "\n",
        "        for (int i = 0; i < n; ++i) {\n",
        "            float distance = 0;\n",
        "            for (int j = 0; j < dim; ++j) {\n",
        "                float diff = reference_points[i * dim + j] - query_points[idx * dim + j];\n",
        "                distance += diff * diff;\n",
        "            }\n",
        "\n",
        "            for (int l = 0; l < k; ++l) {\n",
        "                if (distance < min_distances[l]) {\n",
        "                    for (int t = k - 1; t > l; --t) {\n",
        "                        min_distances[t] = min_distances[t - 1];\n",
        "                        min_indices[t] = min_indices[t - 1];\n",
        "                    }\n",
        "                    min_distances[l] = distance;\n",
        "                    min_indices[l] = i;\n",
        "                    break;\n",
        "                }\n",
        "            }\n",
        "        }\n",
        "\n",
        "        for (int i = 0; i < k; ++i) {\n",
        "            results[idx * k + i] = min_indices[i];\n",
        "        }\n",
        "\n",
        "        delete[] min_distances;\n",
        "        delete[] min_indices;\n",
        "    }\n",
        "}\n",
        "\n",
        "void knn_with_cuda(float *reference_points, float *query_points, int *results, int n, int m, int k, int dim) {\n",
        "    float *d_reference, *d_query;\n",
        "    int *d_results;\n",
        "\n",
        "    cudaMalloc((void **)&d_reference, sizeof(float) * dim * n);\n",
        "    cudaMalloc((void **)&d_query, sizeof(float) * dim * m);\n",
        "    cudaMalloc((void **)&d_results, sizeof(int) * m * k);\n",
        "\n",
        "    cudaMemcpy(d_reference, reference_points, sizeof(float) * dim * n, cudaMemcpyHostToDevice);\n",
        "    cudaMemcpy(d_query, query_points, sizeof(float) * dim * m, cudaMemcpyHostToDevice);\n",
        "\n",
        "    int blockSize = 256;\n",
        "    int numBlocks = (m + blockSize - 1) / blockSize;\n",
        "\n",
        "    knn_kernel<<<numBlocks, blockSize>>>(d_reference, d_query, d_results, n, m, k, dim);\n",
        "\n",
        "    cudaMemcpy(results, d_results, sizeof(int) * m * k, cudaMemcpyDeviceToHost);\n",
        "\n",
        "    cudaFree(d_reference);\n",
        "    cudaFree(d_query);\n",
        "    cudaFree(d_results);\n",
        "}\n",
        "\n",
        "int main() {\n",
        "    int n = 1000000; // Number of reference points\n",
        "    int m = 1000;  // Number of query points\n",
        "    int k = 5;      // Number of nearest neighbors\n",
        "    int dim = 3;    // Number of dimensions\n",
        "\n",
        "    float *reference_points = (float *)malloc(sizeof(float) * dim * n);\n",
        "    float *query_points = (float *)malloc(sizeof(float) * dim * m);\n",
        "    int *results = (int *)malloc(sizeof(int) * m * k);\n",
        "\n",
        "    // Initialize reference_points and query_points with random values\n",
        "    for (int i = 0; i < dim * n; ++i) {\n",
        "        reference_points[i] = static_cast<float>(rand()) / RAND_MAX;\n",
        "    }\n",
        "    for (int i = 0; i < dim * m; ++i) {\n",
        "        query_points[i] = static_cast<float>(rand()) / RAND_MAX;\n",
        "    }\n",
        "\n",
        "    auto start = std::chrono::high_resolution_clock::now();\n",
        "    knn_with_cuda(reference_points, query_points, results, n, m, k, dim);\n",
        "    auto end = std::chrono::high_resolution_clock::now();\n",
        "\n",
        "    std::chrono::duration<float, std::milli> duration = end - start;\n",
        "    std::cout << \"Time taken with CUDA: \" << duration.count() << \" milliseconds\" << std::endl;\n",
        "\n",
        "    free(reference_points);\n",
        "    free(query_points);\n",
        "    free(results);\n",
        "\n",
        "    return 0;\n",
        "}\n"
      ],
      "metadata": {
        "colab": {
          "base_uri": "https://localhost:8080/"
        },
        "id": "_NQLaZcKPOpx",
        "outputId": "87fabbb1-9418-45fb-9252-9fc995d5d29f"
      },
      "execution_count": 51,
      "outputs": [
        {
          "output_type": "stream",
          "name": "stdout",
          "text": [
            "Overwriting knn_gpu.cu\n"
          ]
        }
      ]
    },
    {
      "cell_type": "code",
      "source": [
        "!nvcc knn_gpu.cu -o knn_gpu\n",
        "!./knn_gpu"
      ],
      "metadata": {
        "colab": {
          "base_uri": "https://localhost:8080/"
        },
        "id": "nYlMxAw1PRYv",
        "outputId": "fbc9d0ec-efad-492c-e577-0f5c30076640"
      },
      "execution_count": 52,
      "outputs": [
        {
          "output_type": "stream",
          "name": "stdout",
          "text": [
            "Time taken with CUDA: 0.22591 milliseconds\n"
          ]
        }
      ]
    },
    {
      "cell_type": "code",
      "source": [],
      "metadata": {
        "id": "Ijeq9skgPR73"
      },
      "execution_count": 3,
      "outputs": []
    }
  ]
}