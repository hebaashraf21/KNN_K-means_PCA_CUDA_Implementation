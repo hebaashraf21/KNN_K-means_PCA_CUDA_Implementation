{
  "nbformat": 4,
  "nbformat_minor": 0,
  "metadata": {
    "colab": {
      "provenance": [],
      "gpuType": "T4"
    },
    "kernelspec": {
      "name": "python3",
      "display_name": "Python 3"
    },
    "language_info": {
      "name": "python"
    },
    "accelerator": "GPU"
  },
  "cells": [
    {
      "cell_type": "code",
      "execution_count": 1,
      "metadata": {
        "colab": {
          "base_uri": "https://localhost:8080/"
        },
        "id": "7kejoKxBej0P",
        "outputId": "1d0e2012-6ac4-41ea-9d77-d62b3c4eedf0"
      },
      "outputs": [
        {
          "output_type": "stream",
          "name": "stdout",
          "text": [
            "Collecting git+https://github.com/andreinechaev/nvcc4jupyter.git\n",
            "  Cloning https://github.com/andreinechaev/nvcc4jupyter.git to /tmp/pip-req-build-yh05h25k\n",
            "  Running command git clone --filter=blob:none --quiet https://github.com/andreinechaev/nvcc4jupyter.git /tmp/pip-req-build-yh05h25k\n",
            "  Resolved https://github.com/andreinechaev/nvcc4jupyter.git to commit 326b0a57a80c6d0b4bad25ca7adf8138419ef1cb\n",
            "  Installing build dependencies ... \u001b[?25l\u001b[?25hdone\n",
            "  Getting requirements to build wheel ... \u001b[?25l\u001b[?25hdone\n",
            "  Preparing metadata (pyproject.toml) ... \u001b[?25l\u001b[?25hdone\n",
            "Building wheels for collected packages: nvcc4jupyter\n",
            "  Building wheel for nvcc4jupyter (pyproject.toml) ... \u001b[?25l\u001b[?25hdone\n",
            "  Created wheel for nvcc4jupyter: filename=nvcc4jupyter-1.2.1-py3-none-any.whl size=10741 sha256=1c43b610d84440f376c57bb0b3d20f87e2433fdb6f06eb98d5fd7c81c461a971\n",
            "  Stored in directory: /tmp/pip-ephem-wheel-cache-kelxd7q9/wheels/a8/b9/18/23f8ef71ceb0f63297dd1903aedd067e6243a68ea756d6feea\n",
            "Successfully built nvcc4jupyter\n",
            "Installing collected packages: nvcc4jupyter\n",
            "Successfully installed nvcc4jupyter-1.2.1\n",
            "Detected platform \"Colab\". Running its setup...\n",
            "Source files will be saved in \"/tmp/tmp5n8jit3i\".\n"
          ]
        }
      ],
      "source": [
        "# Setup cuda environment\n",
        "!pip install git+https://github.com/andreinechaev/nvcc4jupyter.git\n",
        "%load_ext nvcc4jupyter"
      ]
    },
    {
      "cell_type": "code",
      "source": [
        "%%writefile knn_gpu.cu\n",
        "\n",
        "#include <stdio.h>\n",
        "#include <stdlib.h>\n",
        "#include <math.h>\n",
        "#include <cuda_runtime.h>\n",
        "#include <iostream>\n",
        "#include <chrono>\n",
        "\n",
        "#define MAX_ERR 1e-6\n",
        "\n",
        "__global__ void knn_kernel(float *reference_points, float *query_points, int *results, int n, int m, int k, int dim) {\n",
        "    int idx = blockIdx.x * blockDim.x + threadIdx.x;\n",
        "    if (idx < m) {\n",
        "        float *min_distances = new float[k];\n",
        "        int *min_indices = new int[k];\n",
        "\n",
        "        for (int i = 0; i < k; ++i) {\n",
        "            min_distances[i] = INFINITY;\n",
        "            min_indices[i] = -1;\n",
        "        }\n",
        "\n",
        "        for (int i = 0; i < n; ++i) {\n",
        "            float distance = 0;\n",
        "            for (int j = 0; j < dim; ++j) {\n",
        "                float diff = reference_points[i * dim + j] - query_points[idx * dim + j];\n",
        "                distance += diff * diff;\n",
        "            }\n",
        "\n",
        "            for (int l = 0; l < k; ++l) {\n",
        "                if (distance < min_distances[l]) {\n",
        "                    for (int t = k - 1; t > l; --t) {\n",
        "                        min_distances[t] = min_distances[t - 1];\n",
        "                        min_indices[t] = min_indices[t - 1];\n",
        "                    }\n",
        "                    min_distances[l] = distance;\n",
        "                    min_indices[l] = i;\n",
        "                    break;\n",
        "                }\n",
        "            }\n",
        "        }\n",
        "\n",
        "        for (int i = 0; i < k; ++i) {\n",
        "            results[idx * k + i] = min_indices[i];\n",
        "        }\n",
        "\n",
        "        delete[] min_distances;\n",
        "        delete[] min_indices;\n",
        "    }\n",
        "}\n",
        "\n",
        "void knn_with_cuda(float *reference_points, float *query_points, int *results, int n, int m, int k, int dim) {\n",
        "    float *d_reference, *d_query;\n",
        "    int *d_results;\n",
        "\n",
        "    cudaMalloc((void **)&d_reference, sizeof(float) * dim * n);\n",
        "    cudaMalloc((void **)&d_query, sizeof(float) * dim * m);\n",
        "    cudaMalloc((void **)&d_results, sizeof(int) * m * k);\n",
        "\n",
        "    cudaMemcpy(d_reference, reference_points, sizeof(float) * dim * n, cudaMemcpyHostToDevice);\n",
        "    cudaMemcpy(d_query, query_points, sizeof(float) * dim * m, cudaMemcpyHostToDevice);\n",
        "\n",
        "    int blockSize = 256;\n",
        "    int numBlocks = (m + blockSize - 1) / blockSize;\n",
        "\n",
        "    knn_kernel<<<numBlocks, blockSize>>>(d_reference, d_query, d_results, n, m, k, dim);\n",
        "\n",
        "    cudaMemcpy(results, d_results, sizeof(int) * m * k, cudaMemcpyDeviceToHost);\n",
        "\n",
        "    cudaFree(d_reference);\n",
        "    cudaFree(d_query);\n",
        "    cudaFree(d_results);\n",
        "}\n",
        "\n",
        "int main() {\n",
        "    int sizes[] = {100, 1000, 10000, 50000, 100000, 1000000};\n",
        "    int m = 1000;  // Number of query points\n",
        "    int k = 5;      // Number of nearest neighbors\n",
        "    int dim = 3;    // Number of dimensions\n",
        "\n",
        "    for (int i = 0; i < sizeof(sizes) / sizeof(sizes[0]); ++i) {\n",
        "        int n = sizes[i]; // Number of reference points\n",
        "\n",
        "        float *reference_points = (float *)malloc(sizeof(float) * dim * n);\n",
        "        float *query_points = (float *)malloc(sizeof(float) * dim * m);\n",
        "        int *results = (int *)malloc(sizeof(int) * m * k);\n",
        "\n",
        "        // Initialize reference_points and query_points with random values\n",
        "        for (int i = 0; i < dim * n; ++i) {\n",
        "            reference_points[i] = static_cast<float>(rand()) / RAND_MAX;\n",
        "        }\n",
        "        for (int i = 0; i < dim * m; ++i) {\n",
        "            query_points[i] = static_cast<float>(rand()) / RAND_MAX;\n",
        "        }\n",
        "\n",
        "        auto start = std::chrono::high_resolution_clock::now();\n",
        "        knn_with_cuda(reference_points, query_points, results, n, m, k, dim);\n",
        "        auto end = std::chrono::high_resolution_clock::now();\n",
        "\n",
        "        std::chrono::duration<float, std::milli> duration = end - start;\n",
        "        std::cout << \"Time taken with CUDA for n=\" << n << \": \" << duration.count() << \" milliseconds\" << std::endl;\n",
        "\n",
        "        free(reference_points);\n",
        "        free(query_points);\n",
        "        free(results);\n",
        "    }\n",
        "\n",
        "    return 0;\n",
        "}"
      ],
      "metadata": {
        "colab": {
          "base_uri": "https://localhost:8080/"
        },
        "id": "NPbQrh51eleg",
        "outputId": "f7c59357-ad3e-4ce6-8816-f1d259c5376e"
      },
      "execution_count": 4,
      "outputs": [
        {
          "output_type": "stream",
          "name": "stdout",
          "text": [
            "Overwriting knn_gpu.cu\n"
          ]
        }
      ]
    },
    {
      "cell_type": "code",
      "source": [
        "!nvcc knn_gpu.cu -o knn_gpu\n",
        "!./knn_gpu"
      ],
      "metadata": {
        "colab": {
          "base_uri": "https://localhost:8080/"
        },
        "id": "-_V0mQDGenR0",
        "outputId": "465b70bd-b3e9-48d3-8f85-565f1fd366a2"
      },
      "execution_count": 5,
      "outputs": [
        {
          "output_type": "stream",
          "name": "stdout",
          "text": [
            "Time taken with CUDA for n=100: 121.701 milliseconds\n",
            "Time taken with CUDA for n=1000: 4.31606 milliseconds\n",
            "Time taken with CUDA for n=10000: 23.1871 milliseconds\n",
            "Time taken with CUDA for n=50000: 125.296 milliseconds\n",
            "Time taken with CUDA for n=100000: 126.364 milliseconds\n",
            "Time taken with CUDA for n=1000000: 954.448 milliseconds\n"
          ]
        }
      ]
    },
    {
      "cell_type": "code",
      "source": [
        "!nvcc knn_gpu.cu -o knn_gpu\n",
        "!./knn_gpu > output.txt"
      ],
      "metadata": {
        "id": "UsluER7LgBQ0"
      },
      "execution_count": 6,
      "outputs": []
    },
    {
      "cell_type": "code",
      "source": [
        "import matplotlib.pyplot as plt\n",
        "\n",
        "sizes = [100, 1000, 10000, 50000, 100000, 1000000]\n",
        "times = []\n",
        "\n",
        "with open('output.txt', 'r') as file:\n",
        "    lines = file.readlines()\n",
        "    for line in lines:\n",
        "        if line.startswith('Time taken with CUDA'):\n",
        "            time_str = line.split(': ')[1].split(' ')[0]\n",
        "            time_sec = float(time_str) / 1000  # Convert milliseconds to seconds\n",
        "            times.append(time_sec)\n",
        "\n",
        "plt.plot(sizes, times, marker='o')\n",
        "plt.xscale('log')  # Use logarithmic scale for x-axis\n",
        "plt.xlabel('Number of reference points (log scale)')\n",
        "plt.ylabel('Time taken (seconds)')\n",
        "plt.title('CUDA KNN Execution Time')\n",
        "plt.grid(True)\n",
        "plt.show()\n"
      ],
      "metadata": {
        "colab": {
          "base_uri": "https://localhost:8080/",
          "height": 476
        },
        "id": "Fj_JsyKXepGB",
        "outputId": "d4762625-a635-49db-9810-777dec70ff26"
      },
      "execution_count": 7,
      "outputs": [
        {
          "output_type": "display_data",
          "data": {
            "text/plain": [
              "<Figure size 640x480 with 1 Axes>"
            ],
            "image/png": "[encoded data removed]"
          },
          "metadata": {}
        }
      ]
    },
    {
      "cell_type": "code",
      "source": [],
      "metadata": {
        "id": "mCxWWT24gcLX"
      },
      "execution_count": null,
      "outputs": []
    }
  ]
}